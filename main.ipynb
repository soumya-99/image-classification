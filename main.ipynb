{
 "cells": [
  {
   "cell_type": "code",
   "execution_count": 30,
   "metadata": {
    "pycharm": {
     "is_executing": true,
     "name": "#%%\n"
    }
   },
   "outputs": [],
   "source": [
    "import os\n",
    "import tensorflow as tf\n",
    "from keras.applications.mobilenet_v2 import MobileNetV2, preprocess_input\n",
    "from keras.preprocessing.image import ImageDataGenerator, load_img\n",
    "from keras.layers import Dense, GlobalAveragePooling2D, Conv2D, Input\n",
    "from keras import callbacks, optimizers\n",
    "import numpy as np"
   ]
  },
  {
   "cell_type": "code",
   "execution_count": 6,
   "metadata": {},
   "outputs": [],
   "source": [
    "# from archive.translate import translate"
   ]
  },
  {
   "cell_type": "code",
   "execution_count": null,
   "metadata": {},
   "outputs": [],
   "source": [
    "# for i in os.listdir(\"archive/raw-img\"):\n",
    "    # os.rename(\"archive/raw-img/\" + i, \"archive/raw-img/\" + translate[i])\n",
    "    # print(i)\n",
    "\n",
    "# for i in os.listdir(\"archive/raw-img\"):\n",
    "#     print(i, len(os.listdir(f\"archive/raw-img/{i}\")))"
   ]
  },
  {
   "cell_type": "code",
   "execution_count": 34,
   "metadata": {},
   "outputs": [],
   "source": [
    "try:\n",
    "    os.mkdir(\"train\")\n",
    "    os.mkdir(\"test\")\n",
    "except:\n",
    "    pass\n",
    "for i in os.listdir(f\"archive/raw-img\"):\n",
    "    try:\n",
    "        os.mkdir(f\"train/{i}\")\n",
    "        os.mkdir(f\"test/{i}\")\n",
    "    except:\n",
    "        pass\n",
    "    for j in os.listdir(f\"archive/raw-img/{i}\")[:1000]:\n",
    "        os.rename(f\"archive/raw-img/{i}/{j}\", f\"train/{i}/{j}\")\n",
    "    for j in os.listdir(f\"archive/raw-img/{i}\")[:400]:\n",
    "        os.rename(f\"archive/raw-img/{i}/{j}\", f\"test/{i}/{j}\")"
   ]
  },
  {
   "cell_type": "code",
   "execution_count": 35,
   "metadata": {},
   "outputs": [],
   "source": [
    "def image_data(dir_path, target_size, batch, class_list, preprocessing):\n",
    "    if preprocessing:\n",
    "        gen_object = ImageDataGenerator(preprocessing_function=preprocessing)\n",
    "    else:\n",
    "        gen_object = ImageDataGenerator()\n",
    "\n",
    "    return gen_object.flow_from_directory(dir_path, target_size=target_size, batch_size=batch, class_mode=\"sparse\", classes=class_list, shuffle=True)\n"
   ]
  },
  {
   "cell_type": "code",
   "execution_count": 36,
   "metadata": {},
   "outputs": [
    {
     "name": "stdout",
     "output_type": "stream",
     "text": [
      "Found 19542 images belonging to 10 classes.\n",
      "Found 6637 images belonging to 10 classes.\n"
     ]
    }
   ],
   "source": [
    "train_data_gen = image_data(\"train\", (224, 224), 500, os.listdir(\"train\"), preprocess_input)\n",
    "valid_data_gen = image_data(\"test\", (224, 224), 500, os.listdir(\"test\"), preprocess_input)"
   ]
  },
  {
   "cell_type": "code",
   "execution_count": 37,
   "metadata": {},
   "outputs": [],
   "source": [
    "base_model = MobileNetV2(input_shape=(224, 224, 3), alpha=1.0, include_top=False, weights=\"imagenet\", input_tensor=None, pooling=None, classes=1000, classifier_activation=\"softmax\")"
   ]
  },
  {
   "cell_type": "code",
   "execution_count": 38,
   "metadata": {},
   "outputs": [],
   "source": [
    "base_model.trainable = False"
   ]
  },
  {
   "cell_type": "code",
   "execution_count": 39,
   "metadata": {},
   "outputs": [],
   "source": [
    "from keras.models import Sequential\n",
    "model = Sequential()\n",
    "model.add(base_model)\n",
    "model.add(GlobalAveragePooling2D())\n",
    "model.add(Dense(1024, activation=\"relu\"))\n",
    "model.add(Dense(10, activation=\"softmax\"))\n",
    "\n",
    "model.compile(optimizer=\"adam\", loss=\"sparse_categorical_crossentropy\", metrics=[\"accuracy\"])"
   ]
  },
  {
   "cell_type": "code",
   "execution_count": 40,
   "metadata": {},
   "outputs": [],
   "source": [
    "early_stopping = callbacks.EarlyStopping(monitor=\"val_loss\", patience=5, mode=\"min\")\n",
    "save_checkpoint = callbacks.ModelCheckpoint(\"mdl_wts.hdf5\", save_best_only=True, monitor=\"val_loss\", mode=\"min\")"
   ]
  },
  {
   "cell_type": "code",
   "execution_count": 21,
   "metadata": {},
   "outputs": [
    {
     "name": "stdout",
     "output_type": "stream",
     "text": [
      "Epoch 1/10\n",
      "20/20 [==============================] - 719s 33s/step - loss: 0.4414 - accuracy: 0.8667 - val_loss: 0.2417 - val_accuracy: 0.9332\n",
      "Epoch 2/10\n",
      "20/20 [==============================] - 355s 18s/step - loss: 0.1159 - accuracy: 0.9654 - val_loss: 0.1925 - val_accuracy: 0.9442\n",
      "Epoch 3/10\n",
      "20/20 [==============================] - 414s 21s/step - loss: 0.0725 - accuracy: 0.9786 - val_loss: 0.1900 - val_accuracy: 0.9417\n",
      "Epoch 4/10\n",
      "20/20 [==============================] - 344s 17s/step - loss: 0.0489 - accuracy: 0.9886 - val_loss: 0.2015 - val_accuracy: 0.9439\n",
      "Epoch 5/10\n",
      "20/20 [==============================] - 347s 17s/step - loss: 0.0348 - accuracy: 0.9933 - val_loss: 0.1978 - val_accuracy: 0.9433\n",
      "Epoch 6/10\n",
      "20/20 [==============================] - 341s 17s/step - loss: 0.0258 - accuracy: 0.9953 - val_loss: 0.2073 - val_accuracy: 0.9446\n",
      "Epoch 7/10\n",
      "20/20 [==============================] - 341s 17s/step - loss: 0.0177 - accuracy: 0.9976 - val_loss: 0.2044 - val_accuracy: 0.9464\n",
      "Epoch 8/10\n",
      "20/20 [==============================] - 336s 17s/step - loss: 0.0112 - accuracy: 0.9992 - val_loss: 0.2060 - val_accuracy: 0.9462\n"
     ]
    },
    {
     "data": {
      "text/plain": [
       "<keras.callbacks.History at 0x21edfaf3dc0>"
      ]
     },
     "execution_count": 21,
     "metadata": {},
     "output_type": "execute_result"
    }
   ],
   "source": [
    "model.fit(train_data_gen, batch_size=500, validation_data=valid_data_gen, callbacks=[early_stopping, save_checkpoint], epochs=10)"
   ]
  }
 ],
 "metadata": {
  "interpreter": {
   "hash": "a40594f90fe3f0f5fd86c4176bdc5c3ac227b5579fab1f169abfb60e9c47ae2d"
  },
  "kernelspec": {
   "display_name": "Python 3.9.0 64-bit",
   "language": "python",
   "name": "python3"
  },
  "language_info": {
   "codemirror_mode": {
    "name": "ipython",
    "version": 3
   },
   "file_extension": ".py",
   "mimetype": "text/x-python",
   "name": "python",
   "nbconvert_exporter": "python",
   "pygments_lexer": "ipython3",
   "version": "3.9.0"
  },
  "orig_nbformat": 4
 },
 "nbformat": 4,
 "nbformat_minor": 2
}
