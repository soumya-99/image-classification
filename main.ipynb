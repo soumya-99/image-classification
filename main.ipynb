{
 "cells": [
  {
   "cell_type": "code",
   "execution_count": 27,
   "metadata": {
    "pycharm": {
     "is_executing": true,
     "name": "#%%\n"
    }
   },
   "outputs": [],
   "source": [
    "import os\n",
    "import tensorflow as tf\n",
    "from keras.applications.mobilenet_v2 import MobileNetV2, preprocess_input\n",
    "from keras.preprocessing.image import ImageDataGenerator, load_img\n",
    "from keras.layers import Dense, GlobalAveragePooling2D, Conv2D, Input\n",
    "from keras import callbacks, optimizers\n",
    "import numpy as np"
   ]
  },
  {
   "cell_type": "code",
   "execution_count": 6,
   "metadata": {},
   "outputs": [],
   "source": [
    "# from archive.translate import translate"
   ]
  },
  {
   "cell_type": "code",
   "execution_count": null,
   "metadata": {},
   "outputs": [],
   "source": [
    "# for i in os.listdir(\"archive/raw-img\"):\n",
    "    # os.rename(\"archive/raw-img/\" + i, \"archive/raw-img/\" + translate[i])\n",
    "    # print(i)\n",
    "\n",
    "# for i in os.listdir(\"archive/raw-img\"):\n",
    "#     print(i, len(os.listdir(f\"archive/raw-img/{i}\")))"
   ]
  },
  {
   "cell_type": "code",
   "execution_count": 26,
   "metadata": {},
   "outputs": [],
   "source": [
    "try:\n",
    "    os.mkdir(\"train\")\n",
    "    os.mkdir(\"test\")\n",
    "except:\n",
    "    pass\n",
    "for i in os.listdir(f\"archive/raw-img\"):\n",
    "    try:\n",
    "        os.mkdir(f\"train/{i}\")\n",
    "        os.mkdir(f\"test/{i}\")\n",
    "    except:\n",
    "        pass\n",
    "    for j in os.listdir(f\"archive/raw-img/{i}\")[:1000]:\n",
    "        os.rename(f\"archive/raw-img/{i}/{j}\", f\"train/{i}/{j}\")\n",
    "    for j in os.listdir(f\"archive/raw-img/{i}\")[:446]:\n",
    "        os.rename(f\"archive/raw-img/{i}/{j}\", f\"test/{i}/{j}\")"
   ]
  },
  {
   "cell_type": "code",
   "execution_count": null,
   "metadata": {},
   "outputs": [],
   "source": [
    "def image_data(preprocessing):\n",
    "    if preprocessing:\n",
    "        gen_object = ImageDataGenerator(preprocessing_function=preprocessing)\n",
    "    else:\n",
    "        gen_object = ImageDataGenerator()\n",
    "\n",
    "        gen_object.flow_from_directory()  # params"
   ]
  }
 ],
 "metadata": {
  "interpreter": {
   "hash": "a40594f90fe3f0f5fd86c4176bdc5c3ac227b5579fab1f169abfb60e9c47ae2d"
  },
  "kernelspec": {
   "display_name": "Python 3.9.0 64-bit",
   "language": "python",
   "name": "python3"
  },
  "language_info": {
   "codemirror_mode": {
    "name": "ipython",
    "version": 3
   },
   "file_extension": ".py",
   "mimetype": "text/x-python",
   "name": "python",
   "nbconvert_exporter": "python",
   "pygments_lexer": "ipython3",
   "version": "3.9.0"
  },
  "orig_nbformat": 4
 },
 "nbformat": 4,
 "nbformat_minor": 2
}
